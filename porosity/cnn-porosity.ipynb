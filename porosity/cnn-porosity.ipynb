{
 "cells": [
  {
   "cell_type": "markdown",
   "metadata": {
    "id": "JRTfwnoUGL9c"
   },
   "source": [
    "# Import Library"
   ]
  },
  {
   "cell_type": "code",
   "execution_count": 1,
   "metadata": {
    "colab": {
     "base_uri": "https://localhost:8080/"
    },
    "executionInfo": {
     "elapsed": 22656,
     "status": "ok",
     "timestamp": 1690203006137,
     "user": {
      "displayName": "Irwan Ary Dharmawan",
      "userId": "15312276832326465021"
     },
     "user_tz": -420
    },
    "id": "GVp3Qsb-gecT",
    "outputId": "9b1cd5d2-1a22-45fb-e168-f5e2fbec9fde"
   },
   "outputs": [
    {
     "name": "stdout",
     "output_type": "stream",
     "text": [
      "Mounted at /content/drive\n"
     ]
    }
   ],
   "source": [
    "#open google drive\n",
    "from google.colab import drive\n",
    "drive.mount('/content/drive')"
   ]
  },
  {
   "cell_type": "code",
   "execution_count": 1,
   "metadata": {
    "executionInfo": {
     "elapsed": 733,
     "status": "ok",
     "timestamp": 1690203038920,
     "user": {
      "displayName": "Irwan Ary Dharmawan",
      "userId": "15312276832326465021"
     },
     "user_tz": -420
    },
    "id": "XaenDEBYGL9f"
   },
   "outputs": [],
   "source": [
    "import os\n",
    "import pandas as pd\n",
    "import scipy.io as sio\n",
    "from PIL import Image\n",
    "import numpy as np\n",
    "import datetime"
   ]
  },
  {
   "cell_type": "markdown",
   "metadata": {
    "id": "NPzvK7OQGL9h"
   },
   "source": [
    "# Perhitungan Porositas Sebagai Label"
   ]
  },
  {
   "cell_type": "markdown",
   "metadata": {
    "id": "ThBv_CQ2GL9h"
   },
   "source": [
    "## Porositas data training"
   ]
  },
  {
   "cell_type": "code",
   "execution_count": 28,
   "metadata": {
    "colab": {
     "base_uri": "https://localhost:8080/"
    },
    "executionInfo": {
     "elapsed": 10485,
     "status": "ok",
     "timestamp": 1690203063125,
     "user": {
      "displayName": "Irwan Ary Dharmawan",
      "userId": "15312276832326465021"
     },
     "user_tz": -420
    },
    "id": "18ZU3dEDGL9h",
    "outputId": "0bfaa807-59bb-42c3-9732-2435e4831181"
   },
   "outputs": [
    {
     "name": "stdout",
     "output_type": "stream",
     "text": [
      "===============================\n",
      "selesai\n"
     ]
    }
   ],
   "source": [
    "path = \"train_mat\"\n",
    "data = os.listdir(path)\n",
    "# data = os.listdir(path)[0]\n",
    "poro = []\n",
    "for i in data:\n",
    "    dmat = sio.loadmat(os.path.join(path,i))\n",
    "#     dmat = sio.loadmat(os.path.join(path,data))\n",
    "    dmat_co = list(dmat.items())\n",
    "    arr_m = dmat_co[3][1] # ini maksudnya adalah mengambil data sebenarnya pada index ketiga lalu mengambil lagi di index pertama\n",
    "    flat = arr_m.ravel() # menjadikan data menjadi satu dimensi\n",
    "    total = len(flat)\n",
    "    matriks = np.sum(flat)\n",
    "    pori = total - matriks\n",
    "    porositas = pori/total # melakukan perhitungan porositas\n",
    "    poro.append(porositas)\n",
    "# pokonya code ini berfungsi untuk melakukan pengambilan data pada awalnya dan melakukan manipulasi data untuk menghitung porositasnya\n",
    "print(\"===============================\")\n",
    "porosity = {'filename' : data,\n",
    "           'porosity' : poro}\n",
    "\n",
    "df_por = pd.DataFrame(porosity)\n",
    "df_por['filename'] = df_por['filename'].replace('.mat','.png', regex=True)\n",
    "df_por.to_csv('train-porosity.csv', index=False)\n",
    "print(\"selesai\")"
   ]
  },
  {
   "cell_type": "markdown",
   "metadata": {
    "id": "daChos6-GL9i"
   },
   "source": [
    "## Porositas data testing"
   ]
  },
  {
   "cell_type": "code",
   "execution_count": 29,
   "metadata": {
    "colab": {
     "base_uri": "https://localhost:8080/"
    },
    "executionInfo": {
     "elapsed": 5892,
     "status": "ok",
     "timestamp": 1690203073781,
     "user": {
      "displayName": "Irwan Ary Dharmawan",
      "userId": "15312276832326465021"
     },
     "user_tz": -420
    },
    "id": "FRet0-e0GL9j",
    "outputId": "494ae0bc-b20b-4bba-b8d4-dd911687f05a"
   },
   "outputs": [
    {
     "name": "stdout",
     "output_type": "stream",
     "text": [
      "===============================\n",
      "0:00:02.261944\n",
      "selesai\n"
     ]
    }
   ],
   "source": [
    "path = r\"test_mat\"\n",
    "data = os.listdir(path)\n",
    "begin_time = datetime.datetime.now()\n",
    "poro = []\n",
    "for i in data:\n",
    "    dmat = sio.loadmat(os.path.join(path,i))\n",
    "    dmat_co = list(dmat.items())\n",
    "    arr_m = dmat_co[3][1]\n",
    "    flat = arr_m.ravel()\n",
    "    total = len(flat)\n",
    "    matriks = np.sum(flat)\n",
    "    pori = total - matriks\n",
    "    porositas = pori/total\n",
    "    poro.append(porositas)\n",
    "\n",
    "print(\"===============================\")\n",
    "print(datetime.datetime.now() - begin_time)\n",
    "porosity = {'filename' : data,\n",
    "           'porosity' : poro}\n",
    "\n",
    "df_por = pd.DataFrame(porosity)\n",
    "df_por['filename'] = df_por['filename'].replace('.mat','.png', regex=True)\n",
    "df_por.to_csv('test-porosity.csv', index=False)\n",
    "print(\"selesai\")"
   ]
  },
  {
   "cell_type": "markdown",
   "metadata": {
    "id": "DqCgETtpGL9k"
   },
   "source": [
    "# Membuat RGB Sintetik sebagai Input"
   ]
  },
  {
   "cell_type": "markdown",
   "metadata": {
    "id": "jqwN35-XGL9l"
   },
   "source": [
    "## RGB sintetik untuk data training"
   ]
  },
  {
   "cell_type": "code",
   "execution_count": 40,
   "metadata": {
    "colab": {
     "base_uri": "https://localhost:8080/"
    },
    "executionInfo": {
     "elapsed": 86928,
     "status": "ok",
     "timestamp": 1690203165330,
     "user": {
      "displayName": "Irwan Ary Dharmawan",
      "userId": "15312276832326465021"
     },
     "user_tz": -420
    },
    "id": "7s3XpHwEGL9l",
    "outputId": "b825a625-a830-47e6-89f0-2cfa2b66b0ab"
   },
   "outputs": [
    {
     "name": "stdout",
     "output_type": "stream",
     "text": [
      "===make rgb====\n",
      "(128, 128, 128)\n",
      "\n",
      "arxy ====================================================================================================\n",
      "[[1 1 1 ... 1 1 1]\n",
      " [1 1 1 ... 1 1 1]\n",
      " [1 1 0 ... 1 1 1]\n",
      " ...\n",
      " [1 1 1 ... 1 1 1]\n",
      " [1 1 1 ... 1 1 1]\n",
      " [1 1 1 ... 1 1 1]] \n",
      "aryz ====================================================================================================\n",
      "[[0 0 0 ... 1 1 1]\n",
      " [0 0 0 ... 1 1 0]\n",
      " [0 0 0 ... 1 1 0]\n",
      " ...\n",
      " [1 1 1 ... 1 1 0]\n",
      " [1 1 1 ... 1 0 0]\n",
      " [1 1 1 ... 0 0 0]] \n",
      "arzx ====================================================================================================\n"
     ]
    }
   ],
   "source": [
    "path = \"train_mat\"\n",
    "sampel = os.listdir(path)\n",
    "sampel = os.listdir(path)[0]\n",
    "#print(type(sampel[0]))\n",
    "rgb =  np.zeros([128,128,3], dtype = np.uint8)\n",
    "ekstensi = '.png'\n",
    "dest_folder = \"RGB-sintetik\"\n",
    "print('===make rgb====')\n",
    "# for i in sampel:\n",
    "# dmat = sio.loadmat(os.path.join(path,i))\n",
    "dmat = sio.loadmat(os.path.join(path,sampel))\n",
    "dmat_conv = list(dmat.items())\n",
    "arr = dmat_conv[3][1]\n",
    "print(arr.shape)\n",
    "arxy = arr[:,:,64]\n",
    "(print(data_arxy) for data_arxy in arxy)\n",
    "print('\\narxy',100*'=')\n",
    "aryz = arr[64,:,:]\n",
    "print(aryz,'\\naryz',100*'=')\n",
    "arzx = arr[:,64,:]\n",
    "print(arzx,'\\narzx',100*'=')\n",
    "\n",
    "#     xy = arxy * 255\n",
    "#     yz = aryz * 255\n",
    "#     zx = arzx * 255\n",
    "#     rgb[:,:,0] = xy\n",
    "#     rgb[:,:,1] = yz\n",
    "#     rgb[:,:,2] = zx\n",
    "#     img = Image.fromarray(rgb)\n",
    "#     filename = i[:-4]+ ekstensi\n",
    "\n",
    "#     img.save(os.path.join(dest_folder,filename))\n",
    "# print('selesai')"
   ]
  },
  {
   "cell_type": "code",
   "execution_count": 32,
   "metadata": {
    "colab": {
     "base_uri": "https://localhost:8080/"
    },
    "executionInfo": {
     "elapsed": 86928,
     "status": "ok",
     "timestamp": 1690203165330,
     "user": {
      "displayName": "Irwan Ary Dharmawan",
      "userId": "15312276832326465021"
     },
     "user_tz": -420
    },
    "id": "7s3XpHwEGL9l",
    "outputId": "b825a625-a830-47e6-89f0-2cfa2b66b0ab"
   },
   "outputs": [
    {
     "name": "stdout",
     "output_type": "stream",
     "text": [
      "===make rgb====\n",
      "[[1 1 1 ... 1 1 1]\n",
      " [1 1 1 ... 1 1 1]\n",
      " [1 1 0 ... 1 1 1]\n",
      " ...\n",
      " [1 1 1 ... 1 1 1]\n",
      " [1 1 1 ... 1 1 1]\n",
      " [1 1 1 ... 1 1 1]]\n"
     ]
    }
   ],
   "source": [
    "# Jadi ini adalah code untuk menghasilkan data rgb sintetik yang diambil dari data sesimik pada kedalam 64 (middle deep)\n",
    "path = \"train_mat\"\n",
    "sampel = os.listdir(path)\n",
    "#print(type(sampel[0]))\n",
    "rgb =  np.zeros([128,128,3], dtype = np.uint8) # kegunaan dari code ini adalah membuat suatu matriks 0 yang berukuran x=128,y=128, dan z=3\n",
    "ekstensi = '.png'\n",
    "dest_folder = \"RGB-sintetik\"\n",
    "print('===make rgb====')\n",
    "for i in sampel:\n",
    "    dmat = sio.loadmat(os.path.join(path,i))\n",
    "    dmat_conv = list(dmat.items())\n",
    "    arr = dmat_conv[3][1]\n",
    "    arxy = arr[:,:,64] # pada code ini dilakukan pengambilan dengan acuan z=64, jadi pada z = 64 data x dan y diambil keseluruhan hingga batas z=64\n",
    "    aryz = arr[64,:,:] # sama halnya dengan ini\n",
    "    arzx = arr[:,64,:] # dan ini\n",
    "    xy = arxy * 255 # dilakukan normalisasi data yang sebelumnya datanya dari 0-1, dikali dengan 255 menjadi 0-255, yang sebelumnya grayscale menjadi rgb\n",
    "    yz = aryz * 255\n",
    "    zx = arzx * 255\n",
    "    rgb[:,:,0] = xy # disimpan dalam format data merah\n",
    "    rgb[:,:,1] = yz # disimpan dalam format data hijau\n",
    "    rgb[:,:,2] = zx # disimpan dalam format data biru\n",
    "    img = Image.fromarray(rgb)\n",
    "    filename = i[:-4]+ ekstensi\n",
    "\n",
    "    img.save(os.path.join(dest_folder,filename))\n",
    "print('selesai')"
   ]
  },
  {
   "cell_type": "markdown",
   "metadata": {
    "id": "FbMY8vsHGL9m"
   },
   "source": [
    "## RGB sintetik untuk data testing"
   ]
  },
  {
   "cell_type": "code",
   "execution_count": 6,
   "metadata": {
    "colab": {
     "base_uri": "https://localhost:8080/"
    },
    "executionInfo": {
     "elapsed": 29893,
     "status": "ok",
     "timestamp": 1690203224149,
     "user": {
      "displayName": "Irwan Ary Dharmawan",
      "userId": "15312276832326465021"
     },
     "user_tz": -420
    },
    "id": "mlLI6bMOGL9n",
    "outputId": "20211b6c-3516-41bb-8a7c-69e9ed72df99"
   },
   "outputs": [
    {
     "name": "stdout",
     "output_type": "stream",
     "text": [
      "===make rgb====\n",
      "selesai\n"
     ]
    }
   ],
   "source": [
    "#path = r\"D:\\2_Magister\\wokshop HAGI\\cnn\\test_mat\"\n",
    "path = r\"/content/drive/My Drive/pcworkshop/test_mat\"\n",
    "sampel = os.listdir(path)\n",
    "#print(type(sampel[0]))\n",
    "rgb =  np.zeros([128,128,3], dtype = np.uint8)\n",
    "ekstensi = '.png'\n",
    "dest_folder = r\"/content/drive/My Drive/pcworkshop/RGB-sintetik\"\n",
    "print('===make rgb====')\n",
    "for i in sampel:\n",
    "    dmat = sio.loadmat(os.path.join(path,i))\n",
    "\n",
    "    dmat_conv = list(dmat.items())\n",
    "    arr = dmat_conv[3][1]\n",
    "    arxy = arr[:,:,64]\n",
    "    aryz = arr[64,:,:]\n",
    "    arzx = arr[:,64,:]\n",
    "    xy = arxy * 255\n",
    "    yz = aryz * 255\n",
    "    zx = arzx * 255\n",
    "    rgb[:,:,0] = xy\n",
    "    rgb[:,:,1] = yz\n",
    "    rgb[:,:,2] = zx\n",
    "    img = Image.fromarray(rgb)\n",
    "    filename = i[:-4]+ ekstensi\n",
    "\n",
    "    img.save(os.path.join(dest_folder,filename))\n",
    "print('selesai')"
   ]
  },
  {
   "cell_type": "markdown",
   "metadata": {
    "id": "6khY4SpiGL9n"
   },
   "source": [
    "# Membuat Model CNN"
   ]
  },
  {
   "cell_type": "code",
   "execution_count": 1,
   "metadata": {
    "executionInfo": {
     "elapsed": 5889,
     "status": "ok",
     "timestamp": 1690203245548,
     "user": {
      "displayName": "Irwan Ary Dharmawan",
      "userId": "15312276832326465021"
     },
     "user_tz": -420
    },
    "id": "nKuEuzIXGL9n"
   },
   "outputs": [],
   "source": [
    "import numpy as np\n",
    "import pandas as pd\n",
    "import os\n",
    "from sklearn.model_selection import train_test_split\n",
    "import datetime\n",
    "import tensorflow as tf\n",
    "from tensorflow import keras\n",
    "import PIL"
   ]
  },
  {
   "cell_type": "markdown",
   "metadata": {
    "id": "7OcUqOP4GL9o"
   },
   "source": [
    "## Load dataset"
   ]
  },
  {
   "cell_type": "code",
   "execution_count": 2,
   "metadata": {
    "executionInfo": {
     "elapsed": 514,
     "status": "ok",
     "timestamp": 1690203273884,
     "user": {
      "displayName": "Irwan Ary Dharmawan",
      "userId": "15312276832326465021"
     },
     "user_tz": -420
    },
    "id": "s-jIH4wsGL9o"
   },
   "outputs": [],
   "source": [
    "path_input = \"RGB-sintetik\"\n",
    "# load data train\n",
    "data = pd.read_csv(r\"train-porosity.csv\")\n",
    "\n",
    "#=================================================\n",
    "full = []\n",
    "for i in data['filename']:\n",
    "    namepath = os.path.join(path_input,str(i))\n",
    "\n",
    "    full.append(namepath)\n",
    "\n",
    "df_n = data['porosity'].tolist()\n",
    "dataset = {'filename' : full,\n",
    "          'nilai' : df_n}\n",
    "dataset = pd.DataFrame(dataset)\n",
    "#=========================================="
   ]
  },
  {
   "cell_type": "code",
   "execution_count": 3,
   "metadata": {},
   "outputs": [
    {
     "data": {
      "text/plain": [
       "filename    RGB-sintetik\\bb_1_129_1.png\n",
       "nilai                          0.156565\n",
       "Name: 0, dtype: object"
      ]
     },
     "execution_count": 3,
     "metadata": {},
     "output_type": "execute_result"
    }
   ],
   "source": [
    "dataset.loc[0]"
   ]
  },
  {
   "cell_type": "code",
   "execution_count": 4,
   "metadata": {
    "colab": {
     "base_uri": "https://localhost:8080/"
    },
    "executionInfo": {
     "elapsed": 335,
     "status": "ok",
     "timestamp": 1690203308543,
     "user": {
      "displayName": "Irwan Ary Dharmawan",
      "userId": "15312276832326465021"
     },
     "user_tz": -420
    },
    "id": "ap6Oh_14GL9p",
    "outputId": "91c66746-cca2-416c-ee55-9cde249782c3"
   },
   "outputs": [
    {
     "name": "stdout",
     "output_type": "stream",
     "text": [
      "Found 240 validated image filenames.\n"
     ]
    }
   ],
   "source": [
    "#==========================================\n",
    "train_generator = tf.keras.preprocessing.image.ImageDataGenerator(\n",
    "    rescale=1./255,\n",
    "    validation_split=0.2\n",
    ")\n",
    "train_images = train_generator.flow_from_dataframe(\n",
    "    dataframe=dataset,\n",
    "    x_col='filename',\n",
    "    y_col='nilai',\n",
    "    target_size=(128, 128),\n",
    "    color_mode='rgb',\n",
    "    class_mode='raw', # jadi kegunaan dari raw ini adalah untuk set target data sesuai dengan data yg diinput\n",
    "    batch_size=32,\n",
    "    shuffle=True,\n",
    "    seed=42,\n",
    "    subset='training'\n",
    ")"
   ]
  },
  {
   "cell_type": "code",
   "execution_count": 5,
   "metadata": {
    "colab": {
     "base_uri": "https://localhost:8080/"
    },
    "executionInfo": {
     "elapsed": 331,
     "status": "ok",
     "timestamp": 1690203313266,
     "user": {
      "displayName": "Irwan Ary Dharmawan",
      "userId": "15312276832326465021"
     },
     "user_tz": -420
    },
    "id": "WxscFqwZGL9p",
    "outputId": "e93e2d92-98e0-43b2-b7cf-52520e75f599"
   },
   "outputs": [
    {
     "name": "stdout",
     "output_type": "stream",
     "text": [
      "Found 60 validated image filenames.\n"
     ]
    }
   ],
   "source": [
    "val_images = train_generator.flow_from_dataframe(\n",
    "    dataframe=dataset,\n",
    "    x_col='filename',\n",
    "    y_col='nilai',\n",
    "    target_size=(128, 128),\n",
    "    color_mode='rgb',\n",
    "    class_mode='raw', \n",
    "    batch_size=32,\n",
    "    shuffle=True,\n",
    "    seed=42,\n",
    "    subset='validation'\n",
    ")"
   ]
  },
  {
   "cell_type": "markdown",
   "metadata": {
    "id": "VNZtmxz_GL9q"
   },
   "source": [
    "## Load Pre-trained model"
   ]
  },
  {
   "cell_type": "code",
   "execution_count": 11,
   "metadata": {
    "colab": {
     "base_uri": "https://localhost:8080/"
    },
    "executionInfo": {
     "elapsed": 5781,
     "status": "ok",
     "timestamp": 1690203326864,
     "user": {
      "displayName": "Irwan Ary Dharmawan",
      "userId": "15312276832326465021"
     },
     "user_tz": -420
    },
    "id": "Mdh-Sy8PGL9q",
    "outputId": "28f1d0b4-1a53-4540-ad05-5d6bba655385"
   },
   "outputs": [
    {
     "name": "stdout",
     "output_type": "stream",
     "text": [
      "Downloading data from https://storage.googleapis.com/tensorflow/keras-applications/mobilenet_v2/mobilenet_v2_weights_tf_dim_ordering_tf_kernels_1.0_128_no_top.h5\n",
      "9406464/9406464 [==============================] - 0s 0us/step\n"
     ]
    }
   ],
   "source": [
    "dat = keras.Sequential()\n",
    "base_model = keras.applications.MobileNetV2(\n",
    "    weights=\"imagenet\",  # Load weights pre-trained on ImageNet.\n",
    "    input_shape=(128, 128, 3),\n",
    "    include_top=False,\n",
    ")\n"
   ]
  },
  {
   "cell_type": "markdown",
   "metadata": {
    "id": "dj9NWMg0GL9q"
   },
   "source": [
    "## Freeze Model"
   ]
  },
  {
   "cell_type": "code",
   "execution_count": 12,
   "metadata": {
    "executionInfo": {
     "elapsed": 355,
     "status": "ok",
     "timestamp": 1690203351133,
     "user": {
      "displayName": "Irwan Ary Dharmawan",
      "userId": "15312276832326465021"
     },
     "user_tz": -420
    },
    "id": "5uoo53clGL9r"
   },
   "outputs": [],
   "source": [
    "base_model.trainable = False"
   ]
  },
  {
   "cell_type": "markdown",
   "metadata": {
    "id": "mdnSnr2kGL9r"
   },
   "source": [
    "## Fine Tuning"
   ]
  },
  {
   "cell_type": "code",
   "execution_count": 13,
   "metadata": {
    "executionInfo": {
     "elapsed": 548,
     "status": "ok",
     "timestamp": 1690203369736,
     "user": {
      "displayName": "Irwan Ary Dharmawan",
      "userId": "15312276832326465021"
     },
     "user_tz": -420
    },
    "id": "pVdlBoibGL9r"
   },
   "outputs": [],
   "source": [
    "inputs = keras.Input(shape=(128, 128, 3))\n",
    "x = dat(inputs)  # Apply random data augmentation\n",
    "x = base_model(x, training=False) # code ini berfungsi untuk mengabaikan model dasar yang mana model dasar ini adalah model pretrained sehingga mempersingkat waktu pelatihan, dimana model pretrained hanya diimport bobotnya saja jadi tidak perlu untuk dilatih\n",
    "x = keras.layers.GlobalMaxPool2D()(x)\n",
    "x = keras.layers.Dropout(0.2)(x)  # Regularize with dropout\n",
    "outputs = keras.layers.Dense(1)(x)\n",
    "model = keras.Model(inputs, outputs)"
   ]
  },
  {
   "cell_type": "markdown",
   "metadata": {
    "id": "GgHNzkf-GL9r"
   },
   "source": [
    "# Compile Model"
   ]
  },
  {
   "cell_type": "code",
   "execution_count": 19,
   "metadata": {
    "colab": {
     "base_uri": "https://localhost:8080/"
    },
    "executionInfo": {
     "elapsed": 683378,
     "status": "ok",
     "timestamp": 1690204383497,
     "user": {
      "displayName": "Irwan Ary Dharmawan",
      "userId": "15312276832326465021"
     },
     "user_tz": -420
    },
    "id": "cFZpgWK7GL9s",
    "outputId": "8ba67efe-32c8-4a51-dd0f-4e11e067c470"
   },
   "outputs": [
    {
     "name": "stdout",
     "output_type": "stream",
     "text": [
      "Epoch 1/100\n",
      "8/8 [==============================] - 11s 733ms/step - loss: 0.8892 - val_loss: 0.6103\n",
      "Epoch 2/100\n",
      "8/8 [==============================] - 5s 715ms/step - loss: 0.8140 - val_loss: 0.5163\n",
      "Epoch 3/100\n",
      "8/8 [==============================] - 5s 535ms/step - loss: 0.9501 - val_loss: 0.4634\n",
      "Epoch 4/100\n",
      "8/8 [==============================] - 4s 571ms/step - loss: 0.8643 - val_loss: 0.6890\n",
      "Epoch 5/100\n",
      "8/8 [==============================] - 7s 856ms/step - loss: 0.7023 - val_loss: 0.6096\n",
      "Epoch 6/100\n",
      "8/8 [==============================] - 5s 577ms/step - loss: 0.6833 - val_loss: 0.4465\n",
      "Epoch 7/100\n",
      "8/8 [==============================] - 5s 573ms/step - loss: 0.6422 - val_loss: 0.4157\n",
      "Epoch 8/100\n",
      "8/8 [==============================] - 6s 793ms/step - loss: 0.7704 - val_loss: 0.3910\n",
      "Epoch 9/100\n",
      "8/8 [==============================] - 5s 599ms/step - loss: 0.6185 - val_loss: 0.3505\n",
      "Epoch 10/100\n",
      "8/8 [==============================] - 6s 802ms/step - loss: 0.7245 - val_loss: 0.3616\n",
      "Epoch 11/100\n",
      "8/8 [==============================] - 4s 557ms/step - loss: 0.7054 - val_loss: 0.4932\n",
      "Epoch 12/100\n",
      "8/8 [==============================] - 6s 776ms/step - loss: 0.6304 - val_loss: 0.8686\n",
      "Epoch 13/100\n",
      "8/8 [==============================] - 4s 504ms/step - loss: 0.6080 - val_loss: 0.3068\n",
      "Epoch 14/100\n",
      "8/8 [==============================] - 7s 854ms/step - loss: 0.4945 - val_loss: 0.2878\n",
      "Epoch 15/100\n",
      "8/8 [==============================] - 4s 567ms/step - loss: 0.4717 - val_loss: 0.2838\n",
      "Epoch 16/100\n",
      "8/8 [==============================] - 4s 517ms/step - loss: 0.4885 - val_loss: 0.3217\n",
      "Epoch 17/100\n",
      "8/8 [==============================] - 6s 697ms/step - loss: 0.4634 - val_loss: 0.3008\n",
      "Epoch 18/100\n",
      "8/8 [==============================] - 5s 574ms/step - loss: 0.4449 - val_loss: 0.2674\n",
      "Epoch 19/100\n",
      "8/8 [==============================] - 6s 713ms/step - loss: 0.4207 - val_loss: 0.2700\n",
      "Epoch 20/100\n",
      "8/8 [==============================] - 6s 831ms/step - loss: 0.3674 - val_loss: 0.2715\n",
      "Epoch 21/100\n",
      "8/8 [==============================] - 5s 595ms/step - loss: 0.4067 - val_loss: 0.3174\n",
      "Epoch 22/100\n",
      "8/8 [==============================] - 7s 911ms/step - loss: 0.3068 - val_loss: 0.3620\n",
      "Epoch 23/100\n",
      "8/8 [==============================] - 5s 576ms/step - loss: 0.3540 - val_loss: 0.2426\n",
      "Epoch 24/100\n",
      "8/8 [==============================] - 6s 800ms/step - loss: 0.2926 - val_loss: 0.2034\n",
      "Epoch 25/100\n",
      "8/8 [==============================] - 4s 491ms/step - loss: 0.2710 - val_loss: 0.2042\n",
      "Epoch 26/100\n",
      "8/8 [==============================] - 6s 807ms/step - loss: 0.2730 - val_loss: 0.2370\n",
      "Epoch 27/100\n",
      "8/8 [==============================] - 4s 575ms/step - loss: 0.2614 - val_loss: 0.2077\n",
      "Epoch 28/100\n",
      "8/8 [==============================] - 5s 569ms/step - loss: 0.2436 - val_loss: 0.2288\n",
      "Epoch 29/100\n",
      "8/8 [==============================] - 6s 709ms/step - loss: 0.2827 - val_loss: 0.1883\n",
      "Epoch 30/100\n",
      "8/8 [==============================] - 5s 606ms/step - loss: 0.2407 - val_loss: 0.1983\n",
      "Epoch 31/100\n",
      "8/8 [==============================] - 5s 646ms/step - loss: 0.2012 - val_loss: 0.2367\n",
      "Epoch 32/100\n",
      "8/8 [==============================] - 6s 789ms/step - loss: 0.2385 - val_loss: 0.2580\n",
      "Epoch 33/100\n",
      "8/8 [==============================] - 5s 609ms/step - loss: 0.2296 - val_loss: 0.1852\n",
      "Epoch 34/100\n",
      "8/8 [==============================] - 7s 893ms/step - loss: 0.2196 - val_loss: 0.1898\n",
      "Epoch 35/100\n",
      "8/8 [==============================] - 5s 609ms/step - loss: 0.1974 - val_loss: 0.1952\n",
      "Epoch 36/100\n",
      "8/8 [==============================] - 6s 830ms/step - loss: 0.1660 - val_loss: 0.2030\n",
      "Epoch 37/100\n",
      "8/8 [==============================] - 4s 563ms/step - loss: 0.1746 - val_loss: 0.2313\n",
      "Epoch 38/100\n",
      "8/8 [==============================] - 4s 507ms/step - loss: 0.1601 - val_loss: 0.2278\n",
      "Epoch 39/100\n",
      "8/8 [==============================] - 5s 614ms/step - loss: 0.1846 - val_loss: 0.1526\n",
      "Epoch 40/100\n",
      "8/8 [==============================] - 4s 596ms/step - loss: 0.1404 - val_loss: 0.1391\n",
      "Epoch 41/100\n",
      "8/8 [==============================] - 6s 804ms/step - loss: 0.1383 - val_loss: 0.1287\n",
      "Epoch 42/100\n",
      "8/8 [==============================] - 4s 535ms/step - loss: 0.1136 - val_loss: 0.1275\n",
      "Epoch 43/100\n",
      "8/8 [==============================] - 5s 611ms/step - loss: 0.1303 - val_loss: 0.1204\n",
      "Epoch 44/100\n",
      "8/8 [==============================] - 6s 794ms/step - loss: 0.1546 - val_loss: 0.1634\n",
      "Epoch 45/100\n",
      "8/8 [==============================] - 4s 559ms/step - loss: 0.1443 - val_loss: 0.1273\n",
      "Epoch 46/100\n",
      "8/8 [==============================] - 4s 529ms/step - loss: 0.1279 - val_loss: 0.1408\n",
      "Epoch 47/100\n",
      "8/8 [==============================] - 7s 807ms/step - loss: 0.1517 - val_loss: 0.1198\n",
      "Epoch 48/100\n",
      "8/8 [==============================] - 4s 495ms/step - loss: 0.0879 - val_loss: 0.1441\n",
      "Epoch 49/100\n",
      "8/8 [==============================] - 6s 779ms/step - loss: 0.0938 - val_loss: 0.1921\n",
      "Epoch 50/100\n",
      "8/8 [==============================] - 4s 600ms/step - loss: 0.1252 - val_loss: 0.1546\n",
      "Epoch 51/100\n",
      "8/8 [==============================] - 6s 785ms/step - loss: 0.1127 - val_loss: 0.1246\n",
      "Epoch 52/100\n",
      "8/8 [==============================] - 4s 506ms/step - loss: 0.1477 - val_loss: 0.1320\n",
      "Epoch 53/100\n",
      "8/8 [==============================] - 6s 763ms/step - loss: 0.1042 - val_loss: 0.1027\n",
      "Epoch 54/100\n",
      "8/8 [==============================] - 5s 588ms/step - loss: 0.1080 - val_loss: 0.1087\n",
      "Epoch 55/100\n",
      "8/8 [==============================] - 7s 830ms/step - loss: 0.1162 - val_loss: 0.0950\n",
      "Epoch 56/100\n",
      "8/8 [==============================] - 5s 568ms/step - loss: 0.0966 - val_loss: 0.0972\n",
      "Epoch 57/100\n",
      "8/8 [==============================] - 6s 822ms/step - loss: 0.0881 - val_loss: 0.0940\n",
      "Epoch 58/100\n",
      "8/8 [==============================] - 4s 539ms/step - loss: 0.1007 - val_loss: 0.0928\n",
      "Epoch 59/100\n",
      "8/8 [==============================] - 4s 543ms/step - loss: 0.0693 - val_loss: 0.0886\n",
      "Epoch 60/100\n",
      "8/8 [==============================] - 6s 765ms/step - loss: 0.0789 - val_loss: 0.0934\n",
      "Epoch 61/100\n",
      "8/8 [==============================] - 4s 543ms/step - loss: 0.0675 - val_loss: 0.1279\n",
      "Epoch 62/100\n",
      "8/8 [==============================] - 10s 1s/step - loss: 0.1044 - val_loss: 0.1282\n",
      "Epoch 63/100\n",
      "8/8 [==============================] - 4s 516ms/step - loss: 0.0933 - val_loss: 0.0958\n",
      "Epoch 64/100\n",
      "8/8 [==============================] - 7s 874ms/step - loss: 0.0831 - val_loss: 0.0808\n",
      "Epoch 65/100\n",
      "8/8 [==============================] - 4s 589ms/step - loss: 0.0644 - val_loss: 0.0977\n",
      "Epoch 66/100\n",
      "8/8 [==============================] - 7s 865ms/step - loss: 0.0680 - val_loss: 0.0849\n",
      "Epoch 67/100\n",
      "8/8 [==============================] - 4s 566ms/step - loss: 0.0611 - val_loss: 0.1022\n",
      "Epoch 68/100\n",
      "8/8 [==============================] - 8s 1s/step - loss: 0.0509 - val_loss: 0.0902\n",
      "Epoch 69/100\n",
      "8/8 [==============================] - 5s 583ms/step - loss: 0.0515 - val_loss: 0.0734\n",
      "Epoch 70/100\n",
      "8/8 [==============================] - 5s 568ms/step - loss: 0.0511 - val_loss: 0.0604\n",
      "Epoch 71/100\n",
      "8/8 [==============================] - 6s 744ms/step - loss: 0.0577 - val_loss: 0.0622\n",
      "Epoch 72/100\n",
      "8/8 [==============================] - 4s 566ms/step - loss: 0.0410 - val_loss: 0.0680\n",
      "Epoch 73/100\n",
      "8/8 [==============================] - 4s 556ms/step - loss: 0.0493 - val_loss: 0.0846\n",
      "Epoch 74/100\n",
      "8/8 [==============================] - 6s 691ms/step - loss: 0.0627 - val_loss: 0.0596\n",
      "Epoch 75/100\n",
      "8/8 [==============================] - 5s 580ms/step - loss: 0.0369 - val_loss: 0.0629\n",
      "Epoch 76/100\n",
      "8/8 [==============================] - 6s 717ms/step - loss: 0.0426 - val_loss: 0.0631\n",
      "Epoch 77/100\n",
      "8/8 [==============================] - 4s 554ms/step - loss: 0.0386 - val_loss: 0.0544\n",
      "Epoch 78/100\n",
      "8/8 [==============================] - 7s 892ms/step - loss: 0.0528 - val_loss: 0.0832\n",
      "Epoch 79/100\n",
      "8/8 [==============================] - 4s 516ms/step - loss: 0.0500 - val_loss: 0.0535\n",
      "Epoch 80/100\n",
      "8/8 [==============================] - 7s 900ms/step - loss: 0.0589 - val_loss: 0.0600\n",
      "Epoch 81/100\n",
      "8/8 [==============================] - 4s 540ms/step - loss: 0.0480 - val_loss: 0.0593\n",
      "Epoch 82/100\n",
      "8/8 [==============================] - 5s 593ms/step - loss: 0.0603 - val_loss: 0.0826\n",
      "Epoch 83/100\n",
      "8/8 [==============================] - 6s 769ms/step - loss: 0.0698 - val_loss: 0.0985\n",
      "Epoch 84/100\n",
      "8/8 [==============================] - 5s 597ms/step - loss: 0.0726 - val_loss: 0.0561\n",
      "Epoch 85/100\n",
      "8/8 [==============================] - 6s 768ms/step - loss: 0.0571 - val_loss: 0.0613\n",
      "Epoch 86/100\n",
      "8/8 [==============================] - 5s 616ms/step - loss: 0.0521 - val_loss: 0.0423\n",
      "Epoch 87/100\n",
      "8/8 [==============================] - 7s 924ms/step - loss: 0.0327 - val_loss: 0.0584\n",
      "Epoch 88/100\n",
      "8/8 [==============================] - 5s 572ms/step - loss: 0.0336 - val_loss: 0.0401\n",
      "Epoch 89/100\n",
      "8/8 [==============================] - 6s 845ms/step - loss: 0.0306 - val_loss: 0.0397\n",
      "Epoch 90/100\n",
      "8/8 [==============================] - 4s 556ms/step - loss: 0.0333 - val_loss: 0.0379\n",
      "Epoch 91/100\n",
      "8/8 [==============================] - 6s 845ms/step - loss: 0.0294 - val_loss: 0.0582\n",
      "Epoch 92/100\n",
      "8/8 [==============================] - 4s 555ms/step - loss: 0.0393 - val_loss: 0.0374\n",
      "Epoch 93/100\n",
      "8/8 [==============================] - 7s 860ms/step - loss: 0.0265 - val_loss: 0.0350\n",
      "Epoch 94/100\n",
      "8/8 [==============================] - 5s 622ms/step - loss: 0.0317 - val_loss: 0.0444\n",
      "Epoch 95/100\n",
      "8/8 [==============================] - 6s 772ms/step - loss: 0.0286 - val_loss: 0.0446\n",
      "Epoch 96/100\n",
      "8/8 [==============================] - 5s 606ms/step - loss: 0.0245 - val_loss: 0.0366\n",
      "Epoch 97/100\n",
      "8/8 [==============================] - 4s 571ms/step - loss: 0.0255 - val_loss: 0.0286\n",
      "Epoch 98/100\n",
      "8/8 [==============================] - 6s 833ms/step - loss: 0.0251 - val_loss: 0.0384\n",
      "Epoch 99/100\n",
      "8/8 [==============================] - 5s 581ms/step - loss: 0.0232 - val_loss: 0.0340\n",
      "Epoch 100/100\n",
      "8/8 [==============================] - 6s 791ms/step - loss: 0.0249 - val_loss: 0.0270\n",
      "0:11:23.083566\n",
      "SELESAI\n"
     ]
    }
   ],
   "source": [
    "begin_time = datetime.datetime.now()\n",
    "model.compile(\n",
    "    optimizer='adam',\n",
    "    loss='mse'\n",
    ")\n",
    "\n",
    "history = model.fit(\n",
    "    train_images,\n",
    "    validation_data=val_images,\n",
    "    epochs=100, batch_size = 256)\n",
    "print(datetime.datetime.now() - begin_time)\n",
    "modsave = r'model'\n",
    "model.save(os.path.join(modsave,'prediksi-porositas.h5'))\n",
    "\n",
    "df = pd.DataFrame(history.history, columns= history.history.keys())\n",
    "csv_save = r\"/content/drive/My Drive/pcworkshop/history\"\n",
    "df.to_csv(os.path.join(csv_save,'prediksi-porositas.csv'), index = False, header=True)\n",
    "\n",
    "print(\"SELESAI\")"
   ]
  },
  {
   "cell_type": "markdown",
   "metadata": {
    "id": "2r93Aa5SGL9s"
   },
   "source": [
    "# Prediksi"
   ]
  },
  {
   "cell_type": "code",
   "execution_count": 20,
   "metadata": {
    "executionInfo": {
     "elapsed": 311,
     "status": "ok",
     "timestamp": 1690204389939,
     "user": {
      "displayName": "Irwan Ary Dharmawan",
      "userId": "15312276832326465021"
     },
     "user_tz": -420
    },
    "id": "vQ-eTCGCGL9s"
   },
   "outputs": [],
   "source": [
    "from tensorflow.keras.models import load_model\n",
    "import pandas as pd\n",
    "import numpy as np\n",
    "import tensorflow as tf\n",
    "import datetime\n",
    "from PIL import Image\n",
    "import os\n",
    "from sklearn.metrics import r2_score"
   ]
  },
  {
   "cell_type": "markdown",
   "metadata": {
    "id": "EPcB456DGL9t"
   },
   "source": [
    "## Load data testing"
   ]
  },
  {
   "cell_type": "code",
   "execution_count": 21,
   "metadata": {
    "colab": {
     "base_uri": "https://localhost:8080/"
    },
    "executionInfo": {
     "elapsed": 3329,
     "status": "ok",
     "timestamp": 1690204397068,
     "user": {
      "displayName": "Irwan Ary Dharmawan",
      "userId": "15312276832326465021"
     },
     "user_tz": -420
    },
    "id": "uyJttJksGL9t",
    "outputId": "3cdb5f26-edb3-4ce1-9677-7c806072f3c4"
   },
   "outputs": [
    {
     "name": "stdout",
     "output_type": "stream",
     "text": [
      ">>> prediksi-porositas.h5 <<<<\n"
     ]
    }
   ],
   "source": [
    "path_mo = r\"model\"\n",
    "fdr = os.listdir(path_mo)\n",
    "#modell = 'code7.h5'\n",
    "modell = fdr[0]\n",
    "#print('test_set0-rand')\n",
    "print('>>> '+modell+' <<<<')\n",
    "model_name = os.path.join(path_mo,modell)\n",
    "\n",
    "model = load_model(model_name, compile=False)\n",
    "\n",
    "# Import dataset pengujian\n",
    "path_input = r\"/content/drive/My Drive/pcworkshop/RGB-sintetik\"\n",
    "data = pd.read_csv(r\"test-porosity.csv\")"
   ]
  },
  {
   "cell_type": "code",
   "execution_count": 22,
   "metadata": {
    "executionInfo": {
     "elapsed": 12902,
     "status": "ok",
     "timestamp": 1690204413760,
     "user": {
      "displayName": "Irwan Ary Dharmawan",
      "userId": "15312276832326465021"
     },
     "user_tz": -420
    },
    "id": "zZ1rJNPFGL9t"
   },
   "outputs": [],
   "source": [
    "full = []\n",
    "for i in data['filename']:\n",
    "    namepath = os.path.join(path_input,str(i))\n",
    "    full.append(namepath)\n",
    "\n",
    "df_n = data['porosity'].tolist()\n",
    "dataset = {'filename' : full,\n",
    "          'porosity' : df_n}\n",
    "dataset = pd.DataFrame(dataset)\n",
    "d_train = []\n",
    "for i in range(len(dataset)):\n",
    "    data_i = dataset['filename'][i]\n",
    "    img = Image.open(data_i)\n",
    "    arr = np.array(img)\n",
    "    #ars = np.reshape(arr,[1,128,128,3])\n",
    "    sampel = arr/255\n",
    "    d_train.append(sampel.tolist())\n",
    "\n",
    "masukan = np.array(d_train)\n",
    "\n",
    "label_train = []\n",
    "for i in range(len(dataset)):\n",
    "    label_i = dataset['porosity'][i]\n",
    "    label_train.append(label_i)\n",
    "\n",
    "target = np.array(label_train)"
   ]
  },
  {
   "cell_type": "markdown",
   "metadata": {
    "id": "c6Nkve_rGL9t"
   },
   "source": [
    "## Testing"
   ]
  },
  {
   "cell_type": "code",
   "execution_count": 23,
   "metadata": {
    "colab": {
     "base_uri": "https://localhost:8080/"
    },
    "executionInfo": {
     "elapsed": 6630,
     "status": "ok",
     "timestamp": 1690204423702,
     "user": {
      "displayName": "Irwan Ary Dharmawan",
      "userId": "15312276832326465021"
     },
     "user_tz": -420
    },
    "id": "N-LhihgOGL9t",
    "outputId": "5ac7f99f-c91f-4186-a965-64b1a5724f4a"
   },
   "outputs": [
    {
     "name": "stdout",
     "output_type": "stream",
     "text": [
      "10/10 [==============================] - 4s 351ms/step\n",
      "0:00:06.129230\n",
      "MAPE: 24.11538\n",
      "MAE: 0.05878046\n",
      "R2: -2.3822250982348514\n",
      "=====================================\n"
     ]
    }
   ],
   "source": [
    "#========= UJI =====================\n",
    "begin_time = datetime.datetime.now()\n",
    "pred = np.squeeze(model.predict(masukan))\n",
    "print(datetime.datetime.now() - begin_time)\n",
    "\n",
    "predictive_value = pred.flatten()\n",
    "file_name = data['filename'].tolist()\n",
    "true_value = data['porosity'].tolist()\n",
    "\n",
    "pred_vs_true = {'filename' : file_name,\n",
    "               'pred' : predictive_value,\n",
    "               'true' : true_value}\n",
    "pred_true = pd.DataFrame(pred_vs_true)\n",
    "\n",
    "pred_true.to_csv('hasil-prediksi.csv', index=False)\n",
    "yy = pred_true['pred']\n",
    "xx = pred_true['true']\n",
    "mape = tf.keras.losses.MeanAbsolutePercentageError()\n",
    "mae = tf.keras.losses.MeanAbsoluteError()\n",
    "loss_mape = mape(xx, yy).numpy()\n",
    "loss_mae = mae(xx, yy).numpy()\n",
    "loss_r2 = r2_score(xx, yy)\n",
    "print('MAPE:', loss_mape)\n",
    "print('MAE:', loss_mae)\n",
    "print('R2:', loss_r2)\n",
    "print('=====================================')"
   ]
  },
  {
   "cell_type": "code",
   "execution_count": null,
   "metadata": {
    "id": "7e6JSoukGL9u"
   },
   "outputs": [],
   "source": []
  }
 ],
 "metadata": {
  "colab": {
   "provenance": []
  },
  "kernelspec": {
   "display_name": "Python 3 (ipykernel)",
   "language": "python",
   "name": "python3"
  },
  "language_info": {
   "codemirror_mode": {
    "name": "ipython",
    "version": 3
   },
   "file_extension": ".py",
   "mimetype": "text/x-python",
   "name": "python",
   "nbconvert_exporter": "python",
   "pygments_lexer": "ipython3",
   "version": "3.9.7"
  }
 },
 "nbformat": 4,
 "nbformat_minor": 1
}
